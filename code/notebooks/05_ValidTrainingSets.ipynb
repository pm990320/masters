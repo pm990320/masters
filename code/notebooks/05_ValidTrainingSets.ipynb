{
 "cells": [
  {
   "cell_type": "code",
   "execution_count": 29,
   "metadata": {},
   "outputs": [],
   "source": [
    "import os\n",
    "import sys\n",
    "from pprint import pprint\n",
    "\n",
    "import numpy as np\n",
    "import pandas as pd\n",
    "import matplotlib.pyplot as plt\n",
    "import seaborn as sns\n",
    "\n",
    "# add the parent dir of notebooks to path\n",
    "sys.path.append(os.path.dirname(os.path.abspath('')))\n",
    "\n",
    "OUTPUT_DIRECTORY = os.path.join(os.path.abspath(''), \"05_ValidTrainingSets\")\n",
    "os.makedirs(OUTPUT_DIRECTORY, exist_ok=True)"
   ]
  },
  {
   "cell_type": "markdown",
   "metadata": {},
   "source": [
    "## Validation of Training Sets\n",
    "\n",
    "By splitting into training and CV sets, some series result in no anomalies occurring in the training set, which means that precision/recall/fbeta are undefined, and the decision threshold cannot be fitted. These series should be exlcuded."
   ]
  },
  {
   "cell_type": "code",
   "execution_count": 2,
   "metadata": {},
   "outputs": [],
   "source": [
    "from data.yahoo.a1_benchmark import yahoo_a1_benchmark\n",
    "yahoo_df = yahoo_a1_benchmark(clean_series=False)"
   ]
  },
  {
   "cell_type": "code",
   "execution_count": 3,
   "metadata": {},
   "outputs": [],
   "source": [
    "from data.nab.real_tweets import nab_multivariate_tweet_volume, STOCK_NAMES\n",
    "tweet_df = nab_multivariate_tweet_volume(labels=\"points\")"
   ]
  },
  {
   "cell_type": "code",
   "execution_count": 4,
   "metadata": {},
   "outputs": [],
   "source": [
    "from evaluation.utils import *"
   ]
  },
  {
   "cell_type": "code",
   "execution_count": 5,
   "metadata": {},
   "outputs": [],
   "source": [
    "def get_null_training_set_series(df, split_frac=0.3, train_set=True):\n",
    "    train_df, cv_df = cross_validation_split(extract_anomaly_labels_to_anomaly_column(df), frac_cv=split_frac)\n",
    "    null_cols = []\n",
    "    edf = train_df if train_set else cv_df\n",
    "    for column in get_anomaly_cols(df).columns:\n",
    "        acol = edf[column]\n",
    "        if len(acol[acol == 1]) == 0:\n",
    "            null_cols.append(column)\n",
    "    return null_cols\n"
   ]
  },
  {
   "cell_type": "code",
   "execution_count": 71,
   "metadata": {},
   "outputs": [],
   "source": [
    "YAHOO_SPLIT_FRAC = 0.21"
   ]
  },
  {
   "cell_type": "code",
   "execution_count": 72,
   "metadata": {},
   "outputs": [
    {
     "name": "stdout",
     "output_type": "stream",
     "text": [
      "['anomaly_1',\n",
      " 'anomaly_2',\n",
      " 'anomaly_4',\n",
      " 'anomaly_6',\n",
      " 'anomaly_10',\n",
      " 'anomaly_11',\n",
      " 'anomaly_16',\n",
      " 'anomaly_21',\n",
      " 'anomaly_22',\n",
      " 'anomaly_25',\n",
      " 'anomaly_31',\n",
      " 'anomaly_32',\n",
      " 'anomaly_33',\n",
      " 'anomaly_35',\n",
      " 'anomaly_37',\n",
      " 'anomaly_42',\n",
      " 'anomaly_45',\n",
      " 'anomaly_50',\n",
      " 'anomaly_58',\n",
      " 'anomaly_59',\n",
      " 'anomaly_63',\n",
      " 'anomaly_64',\n",
      " 'anomaly_65',\n",
      " 'anomaly_66',\n",
      " 'anomaly_67']\n",
      "25\n"
     ]
    }
   ],
   "source": [
    "null_yahoo_series = get_null_training_set_series(yahoo_df, split_frac=YAHOO_SPLIT_FRAC)\n",
    "pprint(null_yahoo_series)\n",
    "print(len(null_yahoo_series))"
   ]
  },
  {
   "cell_type": "code",
   "execution_count": 73,
   "metadata": {},
   "outputs": [
    {
     "name": "stdout",
     "output_type": "stream",
     "text": [
      "['anomaly_5',\n",
      " 'anomaly_14',\n",
      " 'anomaly_18',\n",
      " 'anomaly_35',\n",
      " 'anomaly_36',\n",
      " 'anomaly_44',\n",
      " 'anomaly_48',\n",
      " 'anomaly_49',\n",
      " 'anomaly_54',\n",
      " 'anomaly_59',\n",
      " 'anomaly_62',\n",
      " 'anomaly_64']\n",
      "12\n"
     ]
    }
   ],
   "source": [
    "null_yahoo_series_cv = get_null_training_set_series(yahoo_df, split_frac=YAHOO_SPLIT_FRAC, train_set=False)\n",
    "pprint(null_yahoo_series_cv)\n",
    "print(len(null_yahoo_series_cv))"
   ]
  },
  {
   "cell_type": "code",
   "execution_count": 64,
   "metadata": {},
   "outputs": [
    {
     "data": {
      "text/plain": [
       "[1,\n",
       " 2,\n",
       " 4,\n",
       " 6,\n",
       " 10,\n",
       " 11,\n",
       " 16,\n",
       " 21,\n",
       " 22,\n",
       " 25,\n",
       " 31,\n",
       " 32,\n",
       " 33,\n",
       " 35,\n",
       " 37,\n",
       " 42,\n",
       " 45,\n",
       " 50,\n",
       " 58,\n",
       " 59,\n",
       " 63,\n",
       " 64,\n",
       " 65,\n",
       " 66,\n",
       " 67]"
      ]
     },
     "execution_count": 64,
     "metadata": {},
     "output_type": "execute_result"
    }
   ],
   "source": [
    "list(map(lambda s: int(s.replace(\"anomaly_\", \"\")), null_yahoo_series))"
   ]
  },
  {
   "cell_type": "code",
   "execution_count": 38,
   "metadata": {},
   "outputs": [],
   "source": [
    "TWEET_SPLIT_FRAC = 0.5"
   ]
  },
  {
   "cell_type": "code",
   "execution_count": 41,
   "metadata": {},
   "outputs": [
    {
     "name": "stdout",
     "output_type": "stream",
     "text": [
      "[]\n",
      "0\n"
     ]
    }
   ],
   "source": [
    "null_tweets_series = get_null_training_set_series(tweet_df, split_frac=TWEET_SPLIT_FRAC)\n",
    "pprint(null_tweets_series)\n",
    "print(len(null_tweets_series))"
   ]
  },
  {
   "cell_type": "code",
   "execution_count": 42,
   "metadata": {},
   "outputs": [
    {
     "name": "stdout",
     "output_type": "stream",
     "text": [
      "[]\n",
      "0\n"
     ]
    }
   ],
   "source": [
    "null_tweets_series_cv = get_null_training_set_series(tweet_df, split_frac=TWEET_SPLIT_FRAC, train_set=False)\n",
    "pprint(null_tweets_series_cv)\n",
    "print(len(null_tweets_series_cv))"
   ]
  },
  {
   "cell_type": "code",
   "execution_count": null,
   "metadata": {},
   "outputs": [],
   "source": []
  }
 ],
 "metadata": {
  "kernelspec": {
   "display_name": "Python 3",
   "language": "python",
   "name": "python3"
  },
  "language_info": {
   "codemirror_mode": {
    "name": "ipython",
    "version": 3
   },
   "file_extension": ".py",
   "mimetype": "text/x-python",
   "name": "python",
   "nbconvert_exporter": "python",
   "pygments_lexer": "ipython3",
   "version": "3.7.7"
  }
 },
 "nbformat": 4,
 "nbformat_minor": 4
}
